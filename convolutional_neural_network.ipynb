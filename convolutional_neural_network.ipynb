{
 "cells": [
  {
   "cell_type": "markdown",
   "metadata": {
    "id": "3DR-eO17geWu"
   },
   "source": [
    "# Convolutional Neural Network"
   ]
  },
  {
   "cell_type": "markdown",
   "metadata": {
    "id": "EMefrVPCg-60"
   },
   "source": [
    "### Importing the libraries"
   ]
  },
  {
   "cell_type": "code",
   "execution_count": 1,
   "metadata": {
    "id": "sCV30xyVhFbE"
   },
   "outputs": [],
   "source": [
    "import tensorflow as tf\n",
    "from keras.preprocessing.image import ImageDataGenerator"
   ]
  },
  {
   "cell_type": "code",
   "execution_count": 2,
   "metadata": {
    "id": "FIleuCAjoFD8"
   },
   "outputs": [
    {
     "data": {
      "text/plain": [
       "'2.11.0'"
      ]
     },
     "execution_count": 2,
     "metadata": {},
     "output_type": "execute_result"
    }
   ],
   "source": [
    "tf.__version__"
   ]
  },
  {
   "cell_type": "markdown",
   "metadata": {
    "id": "oxQxCBWyoGPE"
   },
   "source": [
    "## Part 1 - Data Preprocessing"
   ]
  },
  {
   "cell_type": "markdown",
   "metadata": {
    "id": "MvE-heJNo3GG"
   },
   "source": [
    "### Preprocessing the Training set"
   ]
  },
  {
   "cell_type": "code",
   "execution_count": 3,
   "metadata": {
    "id": "0koUcJMJpEBD"
   },
   "outputs": [
    {
     "name": "stdout",
     "output_type": "stream",
     "text": [
      "Found 8005 images belonging to 2 classes.\n"
     ]
    }
   ],
   "source": [
    "train_datagen = ImageDataGenerator(rescale = 1./255,\n",
    "                                   shear_range = 0.2,\n",
    "                                   zoom_range = 0.2,\n",
    "                                   horizontal_flip = True)\n",
    "training_set = train_datagen.flow_from_directory('dataset/training_set',\n",
    "                                                 target_size = (64, 64),\n",
    "                                                 batch_size = 32,\n",
    "                                                 class_mode = 'binary')"
   ]
  },
  {
   "cell_type": "markdown",
   "metadata": {
    "id": "mrCMmGw9pHys"
   },
   "source": [
    "### Preprocessing the Test set"
   ]
  },
  {
   "cell_type": "code",
   "execution_count": 4,
   "metadata": {
    "id": "SH4WzfOhpKc3"
   },
   "outputs": [
    {
     "name": "stdout",
     "output_type": "stream",
     "text": [
      "Found 2023 images belonging to 2 classes.\n"
     ]
    }
   ],
   "source": [
    "test_datagen = ImageDataGenerator(rescale = 1./255)\n",
    "test_set = test_datagen.flow_from_directory('dataset/test_set',\n",
    "                                            target_size = (64, 64),\n",
    "                                            batch_size = 32,\n",
    "                                            class_mode = 'binary')"
   ]
  },
  {
   "cell_type": "markdown",
   "metadata": {
    "id": "af8O4l90gk7B"
   },
   "source": [
    "## Part 2 - Building the CNN"
   ]
  },
  {
   "cell_type": "markdown",
   "metadata": {
    "id": "ces1gXY2lmoX"
   },
   "source": [
    "### Initialising the CNN"
   ]
  },
  {
   "cell_type": "code",
   "execution_count": 5,
   "metadata": {
    "id": "SAUt4UMPlhLS"
   },
   "outputs": [],
   "source": [
    "cnn = tf.keras.models.Sequential()"
   ]
  },
  {
   "cell_type": "markdown",
   "metadata": {
    "id": "u5YJj_XMl5LF"
   },
   "source": [
    "### Step 1 - Convolution"
   ]
  },
  {
   "cell_type": "code",
   "execution_count": 6,
   "metadata": {
    "id": "XPzPrMckl-hV"
   },
   "outputs": [],
   "source": [
    "cnn.add(tf.keras.layers.Conv2D(filters=32, kernel_size=3, activation='relu', input_shape=[64, 64, 3]))"
   ]
  },
  {
   "cell_type": "markdown",
   "metadata": {
    "id": "tf87FpvxmNOJ"
   },
   "source": [
    "### Step 2 - Pooling"
   ]
  },
  {
   "cell_type": "code",
   "execution_count": 7,
   "metadata": {
    "id": "ncpqPl69mOac"
   },
   "outputs": [],
   "source": [
    "cnn.add(tf.keras.layers.MaxPool2D(pool_size=2, strides=2))"
   ]
  },
  {
   "cell_type": "markdown",
   "metadata": {
    "id": "xaTOgD8rm4mU"
   },
   "source": [
    "### Adding a second convolutional layer"
   ]
  },
  {
   "cell_type": "code",
   "execution_count": 8,
   "metadata": {
    "id": "i_-FZjn_m8gk"
   },
   "outputs": [],
   "source": [
    "cnn.add(tf.keras.layers.Conv2D(filters=32, kernel_size=3, activation='relu'))\n",
    "cnn.add(tf.keras.layers.MaxPool2D(pool_size=2, strides=2))"
   ]
  },
  {
   "cell_type": "markdown",
   "metadata": {
    "id": "tmiEuvTunKfk"
   },
   "source": [
    "### Step 3 - Flattening"
   ]
  },
  {
   "cell_type": "code",
   "execution_count": 9,
   "metadata": {
    "id": "6AZeOGCvnNZn"
   },
   "outputs": [],
   "source": [
    "cnn.add(tf.keras.layers.Flatten())"
   ]
  },
  {
   "cell_type": "markdown",
   "metadata": {
    "id": "dAoSECOm203v"
   },
   "source": [
    "### Step 4 - Full Connection"
   ]
  },
  {
   "cell_type": "code",
   "execution_count": 10,
   "metadata": {
    "id": "8GtmUlLd26Nq"
   },
   "outputs": [],
   "source": [
    "cnn.add(tf.keras.layers.Dense(units=128, activation='relu'))"
   ]
  },
  {
   "cell_type": "markdown",
   "metadata": {
    "id": "yTldFvbX28Na"
   },
   "source": [
    "### Step 5 - Output Layer"
   ]
  },
  {
   "cell_type": "code",
   "execution_count": 11,
   "metadata": {
    "id": "1p_Zj1Mc3Ko_"
   },
   "outputs": [],
   "source": [
    "cnn.add(tf.keras.layers.Dense(units=1, activation='sigmoid'))"
   ]
  },
  {
   "cell_type": "markdown",
   "metadata": {
    "id": "D6XkI90snSDl"
   },
   "source": [
    "## Part 3 - Training the CNN"
   ]
  },
  {
   "cell_type": "markdown",
   "metadata": {
    "id": "vfrFQACEnc6i"
   },
   "source": [
    "### Compiling the CNN"
   ]
  },
  {
   "cell_type": "code",
   "execution_count": 12,
   "metadata": {
    "id": "NALksrNQpUlJ"
   },
   "outputs": [],
   "source": [
    "cnn.compile(optimizer = 'adam', loss = 'binary_crossentropy', metrics = ['accuracy'])"
   ]
  },
  {
   "cell_type": "markdown",
   "metadata": {
    "id": "ehS-v3MIpX2h"
   },
   "source": [
    "### Training the CNN on the Training set and evaluating it on the Test set"
   ]
  },
  {
   "cell_type": "code",
   "execution_count": 13,
   "metadata": {},
   "outputs": [],
   "source": [
    "import scipy"
   ]
  },
  {
   "cell_type": "code",
   "execution_count": 14,
   "metadata": {
    "id": "XUj1W4PJptta"
   },
   "outputs": [
    {
     "name": "stdout",
     "output_type": "stream",
     "text": [
      "Epoch 1/25\n",
      "251/251 [==============================] - 35s 137ms/step - loss: 0.6680 - accuracy: 0.5873 - val_loss: 0.6320 - val_accuracy: 0.6708\n",
      "Epoch 2/25\n",
      "251/251 [==============================] - 34s 137ms/step - loss: 0.6083 - accuracy: 0.6733 - val_loss: 0.5668 - val_accuracy: 0.7192\n",
      "Epoch 3/25\n",
      "251/251 [==============================] - 34s 136ms/step - loss: 0.5541 - accuracy: 0.7218 - val_loss: 0.5169 - val_accuracy: 0.7514\n",
      "Epoch 4/25\n",
      "251/251 [==============================] - 35s 138ms/step - loss: 0.5288 - accuracy: 0.7348 - val_loss: 0.5994 - val_accuracy: 0.6738\n",
      "Epoch 5/25\n",
      "251/251 [==============================] - 35s 138ms/step - loss: 0.5013 - accuracy: 0.7548 - val_loss: 0.5666 - val_accuracy: 0.7350\n",
      "Epoch 6/25\n",
      "251/251 [==============================] - 34s 136ms/step - loss: 0.4707 - accuracy: 0.7758 - val_loss: 0.5078 - val_accuracy: 0.7687\n",
      "Epoch 7/25\n",
      "251/251 [==============================] - 34s 137ms/step - loss: 0.4590 - accuracy: 0.7809 - val_loss: 0.5272 - val_accuracy: 0.7696\n",
      "Epoch 8/25\n",
      "251/251 [==============================] - 34s 136ms/step - loss: 0.4548 - accuracy: 0.7810 - val_loss: 0.5170 - val_accuracy: 0.7598\n",
      "Epoch 9/25\n",
      "251/251 [==============================] - 34s 136ms/step - loss: 0.4323 - accuracy: 0.7985 - val_loss: 0.4947 - val_accuracy: 0.7825\n",
      "Epoch 10/25\n",
      "251/251 [==============================] - 35s 138ms/step - loss: 0.4178 - accuracy: 0.8046 - val_loss: 0.4866 - val_accuracy: 0.7840\n",
      "Epoch 11/25\n",
      "251/251 [==============================] - 34s 136ms/step - loss: 0.4009 - accuracy: 0.8146 - val_loss: 0.4744 - val_accuracy: 0.7766\n",
      "Epoch 12/25\n",
      "251/251 [==============================] - 34s 137ms/step - loss: 0.3876 - accuracy: 0.8264 - val_loss: 0.5137 - val_accuracy: 0.7810\n",
      "Epoch 13/25\n",
      "251/251 [==============================] - 34s 136ms/step - loss: 0.3737 - accuracy: 0.8286 - val_loss: 0.5054 - val_accuracy: 0.7795\n",
      "Epoch 14/25\n",
      "251/251 [==============================] - 34s 137ms/step - loss: 0.3551 - accuracy: 0.8423 - val_loss: 0.4657 - val_accuracy: 0.7929\n",
      "Epoch 15/25\n",
      "251/251 [==============================] - 34s 136ms/step - loss: 0.3496 - accuracy: 0.8487 - val_loss: 0.5011 - val_accuracy: 0.7795\n",
      "Epoch 16/25\n",
      "251/251 [==============================] - 34s 136ms/step - loss: 0.3289 - accuracy: 0.8563 - val_loss: 0.5187 - val_accuracy: 0.7860\n",
      "Epoch 17/25\n",
      "251/251 [==============================] - 34s 137ms/step - loss: 0.3160 - accuracy: 0.8597 - val_loss: 0.5054 - val_accuracy: 0.7870\n",
      "Epoch 18/25\n",
      "251/251 [==============================] - 34s 137ms/step - loss: 0.3028 - accuracy: 0.8707 - val_loss: 0.5426 - val_accuracy: 0.7785\n",
      "Epoch 19/25\n",
      "251/251 [==============================] - 34s 137ms/step - loss: 0.2868 - accuracy: 0.8750 - val_loss: 0.5006 - val_accuracy: 0.7924\n",
      "Epoch 20/25\n",
      "251/251 [==============================] - 34s 136ms/step - loss: 0.2799 - accuracy: 0.8760 - val_loss: 0.5042 - val_accuracy: 0.7983\n",
      "Epoch 21/25\n",
      "251/251 [==============================] - 34s 137ms/step - loss: 0.2632 - accuracy: 0.8911 - val_loss: 0.5098 - val_accuracy: 0.8043\n",
      "Epoch 22/25\n",
      "251/251 [==============================] - 36s 142ms/step - loss: 0.2476 - accuracy: 0.8944 - val_loss: 0.5331 - val_accuracy: 0.7973\n",
      "Epoch 23/25\n",
      "251/251 [==============================] - 44s 176ms/step - loss: 0.2364 - accuracy: 0.9032 - val_loss: 0.5139 - val_accuracy: 0.7924\n",
      "Epoch 24/25\n",
      "251/251 [==============================] - 35s 140ms/step - loss: 0.2240 - accuracy: 0.9103 - val_loss: 0.5856 - val_accuracy: 0.7855\n",
      "Epoch 25/25\n",
      "251/251 [==============================] - 34s 137ms/step - loss: 0.2231 - accuracy: 0.9134 - val_loss: 0.6177 - val_accuracy: 0.7820\n"
     ]
    },
    {
     "data": {
      "text/plain": [
       "<keras.callbacks.History at 0x13fe40d9a50>"
      ]
     },
     "execution_count": 14,
     "metadata": {},
     "output_type": "execute_result"
    }
   ],
   "source": [
    "cnn.fit(x = training_set, validation_data = test_set, epochs = 25)"
   ]
  },
  {
   "cell_type": "markdown",
   "metadata": {
    "id": "U3PZasO0006Z"
   },
   "source": [
    "## Part 4 - Making a single prediction"
   ]
  },
  {
   "cell_type": "code",
   "execution_count": 19,
   "metadata": {
    "id": "gsSiWEJY1BPB"
   },
   "outputs": [
    {
     "name": "stdout",
     "output_type": "stream",
     "text": [
      "1/1 [==============================] - 0s 20ms/step\n"
     ]
    }
   ],
   "source": [
    "import numpy as np\n",
    "from keras.preprocessing import image\n",
    "test_image = tf.keras.utils.load_img('dataset/single_prediction/cat_or_dog_2.jpg', target_size = (64, 64))\n",
    "test_image = tf.keras.utils.img_to_array(test_image)\n",
    "test_image = np.expand_dims(test_image, axis = 0)\n",
    "result = cnn.predict(test_image)\n",
    "training_set.class_indices\n",
    "if result[0][0] == 1:\n",
    "  prediction = 'dog'\n",
    "else:\n",
    "  prediction = 'cat'"
   ]
  },
  {
   "cell_type": "code",
   "execution_count": 20,
   "metadata": {
    "id": "ED9KB3I54c1i"
   },
   "outputs": [
    {
     "name": "stdout",
     "output_type": "stream",
     "text": [
      "cat\n"
     ]
    }
   ],
   "source": [
    "print(prediction)"
   ]
  },
  {
   "cell_type": "code",
   "execution_count": null,
   "metadata": {},
   "outputs": [],
   "source": []
  }
 ],
 "metadata": {
  "colab": {
   "provenance": [],
   "toc_visible": true
  },
  "kernelspec": {
   "display_name": "Python 3 (ipykernel)",
   "language": "python",
   "name": "python3"
  },
  "language_info": {
   "codemirror_mode": {
    "name": "ipython",
    "version": 3
   },
   "file_extension": ".py",
   "mimetype": "text/x-python",
   "name": "python",
   "nbconvert_exporter": "python",
   "pygments_lexer": "ipython3",
   "version": "3.10.8"
  }
 },
 "nbformat": 4,
 "nbformat_minor": 1
}
